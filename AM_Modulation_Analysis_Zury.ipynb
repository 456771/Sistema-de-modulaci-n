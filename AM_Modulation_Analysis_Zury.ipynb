{
 "cells": [
  {
   "cell_type": "markdown",
   "id": "22adde24",
   "metadata": {},
   "source": [
    "# Implementación de Modulación AM en Python\n",
    "Este notebook simula un sistema de modulación en amplitud (AM), analiza su espectro y evalúa efectos de ruido y atenuación."
   ]
  },
  {
   "cell_type": "code",
   "execution_count": null,
   "id": "cb399fbe",
   "metadata": {},
   "outputs": [],
   "source": [
    "# Importar librerías necesarias\n",
    "import numpy as np\n",
    "import matplotlib.pyplot as plt\n",
    "from scipy.fft import fft, fftfreq"
   ]
  },
  {
   "cell_type": "code",
   "execution_count": null,
   "id": "27ec7e7d",
   "metadata": {},
   "outputs": [],
   "source": [
    "# Parámetros generales\n",
    "fs = 5000  # Frecuencia de muestreo\n",
    "t = np.arange(0, 0.1, 1/fs)  # Tiempo"
   ]
  },
  {
   "cell_type": "code",
   "execution_count": null,
   "id": "2fa19232",
   "metadata": {},
   "outputs": [],
   "source": [
    "# Señal de mensaje (baja frecuencia)\n",
    "f_m = 100\n",
    "m = np.sin(2 * np.pi * f_m * t)"
   ]
  },
  {
   "cell_type": "code",
   "execution_count": null,
   "id": "670d86be",
   "metadata": {},
   "outputs": [],
   "source": [
    "# Señal portadora (alta frecuencia)\n",
    "f_c = 1000\n",
    "carrier = np.cos(2 * np.pi * f_c * t)"
   ]
  },
  {
   "cell_type": "code",
   "execution_count": null,
   "id": "49e72189",
   "metadata": {},
   "outputs": [],
   "source": [
    "# Modulación AM\n",
    "modulated = (1 + m) * carrier"
   ]
  },
  {
   "cell_type": "code",
   "execution_count": null,
   "id": "da703095",
   "metadata": {},
   "outputs": [],
   "source": [
    "# Gráficas de señales\n",
    "plt.figure(figsize=(12, 6))\n",
    "plt.subplot(3, 1, 1)\n",
    "plt.plot(t, m)\n",
    "plt.title('Señal de mensaje (100 Hz)')\n",
    "plt.grid()\n",
    "\n",
    "plt.subplot(3, 1, 2)\n",
    "plt.plot(t, carrier)\n",
    "plt.title('Señal portadora (1000 Hz)')\n",
    "plt.grid()\n",
    "\n",
    "plt.subplot(3, 1, 3)\n",
    "plt.plot(t, modulated)\n",
    "plt.title('Señal Modulada AM')\n",
    "plt.xlabel('Tiempo [s]')\n",
    "plt.grid()\n",
    "plt.tight_layout()\n",
    "plt.show()"
   ]
  },
  {
   "cell_type": "code",
   "execution_count": null,
   "id": "b1e46d30",
   "metadata": {},
   "outputs": [],
   "source": [
    "# Análisis en frecuencia\n",
    "N = len(modulated)\n",
    "yf = fft(modulated)\n",
    "xf = fftfreq(N, 1 / fs)\n",
    "\n",
    "plt.figure(figsize=(10, 4))\n",
    "plt.plot(xf[:N//2], 2/N * np.abs(yf[:N//2]))\n",
    "plt.title('Espectro de la señal modulada AM')\n",
    "plt.xlabel('Frecuencia [Hz]')\n",
    "plt.ylabel('Magnitud')\n",
    "plt.grid()\n",
    "plt.show()"
   ]
  },
  {
   "cell_type": "code",
   "execution_count": null,
   "id": "ade5abb9",
   "metadata": {},
   "outputs": [],
   "source": [
    "# Introducir ruido y atenuación\n",
    "noise = np.random.normal(0, 0.3, len(modulated))\n",
    "modulated_noisy = modulated + noise\n",
    "modulated_attenuated = 0.5 * modulated\n",
    "\n",
    "plt.figure(figsize=(12, 6))\n",
    "plt.subplot(2, 1, 1)\n",
    "plt.plot(t, modulated_noisy)\n",
    "plt.title('Señal AM con ruido')\n",
    "plt.grid()\n",
    "\n",
    "plt.subplot(2, 1, 2)\n",
    "plt.plot(t, modulated_attenuated)\n",
    "plt.title('Señal AM con atenuación')\n",
    "plt.xlabel('Tiempo [s]')\n",
    "plt.grid()\n",
    "plt.tight_layout()\n",
    "plt.show()"
   ]
  },
  {
   "cell_type": "markdown",
   "id": "95c3ae83",
   "metadata": {},
   "source": [
    "## Conclusión\n",
    "Se observa cómo la señal AM es afectada por el ruido y la atenuación. El análisis en frecuencia permite identificar las componentes presentes en la modulación."
   ]
  }
 ],
 "metadata": {},
 "nbformat": 4,
 "nbformat_minor": 5
}